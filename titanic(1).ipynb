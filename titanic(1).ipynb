{
 "cells": [
  {
   "cell_type": "code",
   "execution_count": 119,
   "id": "cc60c9d5-43f9-4ec9-9383-1d3aad967fcb",
   "metadata": {},
   "outputs": [],
   "source": [
    "import pandas as pd"
   ]
  },
  {
   "cell_type": "code",
   "execution_count": 120,
   "id": "d7d3cdaa-a4a6-462c-b06d-e777daf6535b",
   "metadata": {},
   "outputs": [],
   "source": [
    "df = pd.read_csv('titanic.csv')"
   ]
  },
  {
   "cell_type": "code",
   "execution_count": 121,
   "id": "428883ba-7182-445d-be23-ff0903e8acc9",
   "metadata": {},
   "outputs": [
    {
     "name": "stdout",
     "output_type": "stream",
     "text": [
      "<class 'pandas.core.frame.DataFrame'>\n",
      "RangeIndex: 891 entries, 0 to 890\n",
      "Data columns (total 12 columns):\n",
      " #   Column       Non-Null Count  Dtype  \n",
      "---  ------       --------------  -----  \n",
      " 0   PassengerId  891 non-null    int64  \n",
      " 1   Survived     891 non-null    int64  \n",
      " 2   Pclass       891 non-null    int64  \n",
      " 3   Name         891 non-null    object \n",
      " 4   Sex          891 non-null    object \n",
      " 5   Age          714 non-null    float64\n",
      " 6   SibSp        891 non-null    int64  \n",
      " 7   Parch        891 non-null    int64  \n",
      " 8   Ticket       891 non-null    object \n",
      " 9   Fare         891 non-null    float64\n",
      " 10  Cabin        204 non-null    object \n",
      " 11  Embarked     889 non-null    object \n",
      "dtypes: float64(2), int64(5), object(5)\n",
      "memory usage: 83.7+ KB\n"
     ]
    }
   ],
   "source": [
    "df.info()"
   ]
  },
  {
   "cell_type": "code",
   "execution_count": 122,
   "id": "f0f15ae0-583d-426d-955d-c9892af93ed2",
   "metadata": {},
   "outputs": [],
   "source": [
    "temp = df.groupby('Pclass')['Age'].mean()\n",
    "age_1 = temp[1]\n",
    "age_2 = temp[2]\n",
    "age_3 = temp[3]"
   ]
  },
  {
   "cell_type": "code",
   "execution_count": 123,
   "id": "4381a743-566a-403e-b5ab-370f9dcd2e18",
   "metadata": {},
   "outputs": [],
   "source": [
    "def fill_age(row):\n",
    "    if pd.isnull(row['Age']):\n",
    "        if row['Pclass'] == 1:\n",
    "            return age_1\n",
    "        elif row['Pclass'] == 2:\n",
    "            return age_2\n",
    "        elif row['Pclass'] == 3:\n",
    "            return age_3\n",
    "    else:\n",
    "        return row['Age']\n",
    "\n",
    "df['Age'] = df.apply(fill_age, axis=1)"
   ]
  },
  {
   "cell_type": "code",
   "execution_count": 124,
   "id": "cc6c1a35-e6c4-4224-aa2d-d62ff2de1d90",
   "metadata": {},
   "outputs": [],
   "source": [
    "names = df['Name'].copy()"
   ]
  },
  {
   "cell_type": "code",
   "execution_count": 125,
   "id": "cd90add5-e91d-4cd8-8ca4-1a305103de98",
   "metadata": {},
   "outputs": [
    {
     "name": "stdout",
     "output_type": "stream",
     "text": [
      "<class 'pandas.core.frame.DataFrame'>\n",
      "RangeIndex: 891 entries, 0 to 890\n",
      "Data columns (total 12 columns):\n",
      " #   Column       Non-Null Count  Dtype  \n",
      "---  ------       --------------  -----  \n",
      " 0   PassengerId  891 non-null    int64  \n",
      " 1   Survived     891 non-null    int64  \n",
      " 2   Pclass       891 non-null    int64  \n",
      " 3   Name         891 non-null    object \n",
      " 4   Sex          891 non-null    object \n",
      " 5   Age          891 non-null    float64\n",
      " 6   SibSp        891 non-null    int64  \n",
      " 7   Parch        891 non-null    int64  \n",
      " 8   Ticket       891 non-null    object \n",
      " 9   Fare         891 non-null    float64\n",
      " 10  Cabin        204 non-null    object \n",
      " 11  Embarked     889 non-null    object \n",
      "dtypes: float64(2), int64(5), object(5)\n",
      "memory usage: 83.7+ KB\n"
     ]
    }
   ],
   "source": [
    "df.info()"
   ]
  },
  {
   "cell_type": "code",
   "execution_count": 126,
   "id": "e8a00d10-1ca5-4c41-8def-54efdd1c4c51",
   "metadata": {},
   "outputs": [],
   "source": [
    "df.drop(['Name', 'PassengerId', 'Cabin', 'Ticket'],axis=1,inplace=True)"
   ]
  },
  {
   "cell_type": "code",
   "execution_count": 127,
   "id": "35265a85-39b5-49fe-a10d-69209531bf26",
   "metadata": {},
   "outputs": [
    {
     "name": "stdout",
     "output_type": "stream",
     "text": [
      "<class 'pandas.core.frame.DataFrame'>\n",
      "RangeIndex: 891 entries, 0 to 890\n",
      "Data columns (total 8 columns):\n",
      " #   Column    Non-Null Count  Dtype  \n",
      "---  ------    --------------  -----  \n",
      " 0   Survived  891 non-null    int64  \n",
      " 1   Pclass    891 non-null    int64  \n",
      " 2   Sex       891 non-null    object \n",
      " 3   Age       891 non-null    float64\n",
      " 4   SibSp     891 non-null    int64  \n",
      " 5   Parch     891 non-null    int64  \n",
      " 6   Fare      891 non-null    float64\n",
      " 7   Embarked  889 non-null    object \n",
      "dtypes: float64(2), int64(4), object(2)\n",
      "memory usage: 55.8+ KB\n"
     ]
    }
   ],
   "source": [
    "df.info()"
   ]
  },
  {
   "cell_type": "code",
   "execution_count": 128,
   "id": "616feab8-a493-4bac-bdb9-2ea058eec2ed",
   "metadata": {},
   "outputs": [],
   "source": [
    "def convert(value):\n",
    "    if value == 'male':\n",
    "        return 1\n",
    "    else:\n",
    "        return 0\n",
    "df['Sex'] = df['Sex'].apply(convert)"
   ]
  },
  {
   "cell_type": "code",
   "execution_count": 129,
   "id": "b187c9b1-881e-44d4-90fa-1b034c7c7578",
   "metadata": {},
   "outputs": [],
   "source": [
    "df[list(pd.get_dummies(df['Embarked']).columns)] = pd.get_dummies(df['Embarked'])"
   ]
  },
  {
   "cell_type": "code",
   "execution_count": 130,
   "id": "e2572540-a128-47be-ab84-b2f39b8950bf",
   "metadata": {},
   "outputs": [
    {
     "name": "stdout",
     "output_type": "stream",
     "text": [
      "<class 'pandas.core.frame.DataFrame'>\n",
      "RangeIndex: 891 entries, 0 to 890\n",
      "Data columns (total 11 columns):\n",
      " #   Column    Non-Null Count  Dtype  \n",
      "---  ------    --------------  -----  \n",
      " 0   Survived  891 non-null    int64  \n",
      " 1   Pclass    891 non-null    int64  \n",
      " 2   Sex       891 non-null    int64  \n",
      " 3   Age       891 non-null    float64\n",
      " 4   SibSp     891 non-null    int64  \n",
      " 5   Parch     891 non-null    int64  \n",
      " 6   Fare      891 non-null    float64\n",
      " 7   Embarked  889 non-null    object \n",
      " 8   C         891 non-null    bool   \n",
      " 9   Q         891 non-null    bool   \n",
      " 10  S         891 non-null    bool   \n",
      "dtypes: bool(3), float64(2), int64(5), object(1)\n",
      "memory usage: 58.4+ KB\n"
     ]
    }
   ],
   "source": [
    "df.info()"
   ]
  },
  {
   "cell_type": "code",
   "execution_count": 131,
   "id": "d8fbec4f-9365-47eb-95d6-6cfaebcfff56",
   "metadata": {},
   "outputs": [],
   "source": [
    "df.drop(['Embarked'],axis=1, inplace=True)"
   ]
  },
  {
   "cell_type": "code",
   "execution_count": 132,
   "id": "d81af73b-fdab-479c-a43c-247234857942",
   "metadata": {},
   "outputs": [
    {
     "name": "stdout",
     "output_type": "stream",
     "text": [
      "<class 'pandas.core.frame.DataFrame'>\n",
      "RangeIndex: 891 entries, 0 to 890\n",
      "Data columns (total 10 columns):\n",
      " #   Column    Non-Null Count  Dtype  \n",
      "---  ------    --------------  -----  \n",
      " 0   Survived  891 non-null    int64  \n",
      " 1   Pclass    891 non-null    int64  \n",
      " 2   Sex       891 non-null    int64  \n",
      " 3   Age       891 non-null    float64\n",
      " 4   SibSp     891 non-null    int64  \n",
      " 5   Parch     891 non-null    int64  \n",
      " 6   Fare      891 non-null    float64\n",
      " 7   C         891 non-null    bool   \n",
      " 8   Q         891 non-null    bool   \n",
      " 9   S         891 non-null    bool   \n",
      "dtypes: bool(3), float64(2), int64(5)\n",
      "memory usage: 51.5 KB\n"
     ]
    }
   ],
   "source": [
    "df.info()"
   ]
  },
  {
   "cell_type": "code",
   "execution_count": 133,
   "id": "e0e6980e-f25d-47ef-a5df-0f930773a037",
   "metadata": {},
   "outputs": [
    {
     "data": {
      "text/plain": [
       "Pclass\n",
       "1    0.629630\n",
       "2    0.472826\n",
       "3    0.242363\n",
       "Name: Survived, dtype: float64"
      ]
     },
     "execution_count": 133,
     "metadata": {},
     "output_type": "execute_result"
    }
   ],
   "source": [
    "df.groupby('Pclass')['Survived'].mean()"
   ]
  },
  {
   "cell_type": "code",
   "execution_count": 134,
   "id": "8fd8bf66-feb9-4f3c-ab7c-658632dee680",
   "metadata": {},
   "outputs": [
    {
     "data": {
      "text/plain": [
       "Pclass\n",
       "1    136\n",
       "2     87\n",
       "3    119\n",
       "Name: Survived, dtype: int64"
      ]
     },
     "execution_count": 134,
     "metadata": {},
     "output_type": "execute_result"
    }
   ],
   "source": [
    "df.groupby('Pclass')['Survived'].sum()"
   ]
  },
  {
   "cell_type": "code",
   "execution_count": 135,
   "id": "df1202c6-a898-41ef-b4d0-bfd699019d7a",
   "metadata": {},
   "outputs": [
    {
     "data": {
      "text/plain": [
       "Sex\n",
       "0    0.742038\n",
       "1    0.188908\n",
       "Name: Survived, dtype: float64"
      ]
     },
     "execution_count": 135,
     "metadata": {},
     "output_type": "execute_result"
    }
   ],
   "source": [
    "df.groupby('Sex')['Survived'].mean()"
   ]
  },
  {
   "cell_type": "code",
   "execution_count": 136,
   "id": "c620849a-66ae-4f0b-b3bb-d3d4d3a2bdc0",
   "metadata": {},
   "outputs": [
    {
     "data": {
      "text/plain": [
       "Sex\n",
       "0    314\n",
       "1    577\n",
       "Name: Survived, dtype: int64"
      ]
     },
     "execution_count": 136,
     "metadata": {},
     "output_type": "execute_result"
    }
   ],
   "source": [
    "df.groupby('Sex')['Survived'].count()"
   ]
  },
  {
   "cell_type": "code",
   "execution_count": 137,
   "id": "d6269e02-19ea-429e-a300-a51dce1cf679",
   "metadata": {},
   "outputs": [
    {
     "data": {
      "text/plain": [
       "Sex\n",
       "0    233\n",
       "1    109\n",
       "Name: Survived, dtype: int64"
      ]
     },
     "execution_count": 137,
     "metadata": {},
     "output_type": "execute_result"
    }
   ],
   "source": [
    "df.groupby('Sex')['Survived'].sum()"
   ]
  },
  {
   "cell_type": "code",
   "execution_count": 138,
   "id": "51d10cbd-ad91-4b41-9b12-853f7ce87602",
   "metadata": {},
   "outputs": [
    {
     "data": {
      "text/plain": [
       "0.5915492957746479"
      ]
     },
     "execution_count": 138,
     "metadata": {},
     "output_type": "execute_result"
    }
   ],
   "source": [
    "df[df['Age']<=13]['Survived'].mean()"
   ]
  },
  {
   "cell_type": "code",
   "execution_count": 139,
   "id": "7f77e3a6-dac1-43fe-a281-b50a8d609c49",
   "metadata": {},
   "outputs": [
    {
     "data": {
      "text/plain": [
       "0.36585365853658536"
      ]
     },
     "execution_count": 139,
     "metadata": {},
     "output_type": "execute_result"
    }
   ],
   "source": [
    "df[df['Age']>13]['Survived'].mean()"
   ]
  },
  {
   "cell_type": "code",
   "execution_count": 140,
   "id": "55b914d7-ab55-4b1c-82e4-025d71133140",
   "metadata": {},
   "outputs": [
    {
     "data": {
      "text/plain": [
       "0.3651685393258427"
      ]
     },
     "execution_count": 140,
     "metadata": {},
     "output_type": "execute_result"
    }
   ],
   "source": [
    "df[df['Age']>20]['Survived'].mean()"
   ]
  },
  {
   "cell_type": "code",
   "execution_count": 141,
   "id": "56ca87f6-00eb-454d-aaa2-3da72f1bd10f",
   "metadata": {},
   "outputs": [
    {
     "data": {
      "text/plain": [
       "Parch\n",
       "0    678\n",
       "1    118\n",
       "2     80\n",
       "5      5\n",
       "3      5\n",
       "4      4\n",
       "6      1\n",
       "Name: count, dtype: int64"
      ]
     },
     "execution_count": 141,
     "metadata": {},
     "output_type": "execute_result"
    }
   ],
   "source": [
    "df['Parch'].value_counts()"
   ]
  },
  {
   "cell_type": "code",
   "execution_count": 142,
   "id": "f70097a2-cad9-47ca-8cc0-6744b3a86541",
   "metadata": {},
   "outputs": [],
   "source": [
    "df['Relatives'] = df['Parch'] + df['SibSp']"
   ]
  },
  {
   "cell_type": "code",
   "execution_count": 143,
   "id": "ff09336d-36ba-4de4-a5c6-62f99fea54a8",
   "metadata": {},
   "outputs": [],
   "source": [
    "def convert(value):\n",
    "    if value > 0:\n",
    "        return 1\n",
    "    else:\n",
    "        return 0\n",
    "df['Relatives'] = df['Relatives'].apply(convert)"
   ]
  },
  {
   "cell_type": "code",
   "execution_count": 144,
   "id": "bbe4e122-d2e5-4e25-b873-f3c8b68d2a37",
   "metadata": {},
   "outputs": [
    {
     "name": "stdout",
     "output_type": "stream",
     "text": [
      "<class 'pandas.core.frame.DataFrame'>\n",
      "RangeIndex: 891 entries, 0 to 890\n",
      "Data columns (total 11 columns):\n",
      " #   Column     Non-Null Count  Dtype  \n",
      "---  ------     --------------  -----  \n",
      " 0   Survived   891 non-null    int64  \n",
      " 1   Pclass     891 non-null    int64  \n",
      " 2   Sex        891 non-null    int64  \n",
      " 3   Age        891 non-null    float64\n",
      " 4   SibSp      891 non-null    int64  \n",
      " 5   Parch      891 non-null    int64  \n",
      " 6   Fare       891 non-null    float64\n",
      " 7   C          891 non-null    bool   \n",
      " 8   Q          891 non-null    bool   \n",
      " 9   S          891 non-null    bool   \n",
      " 10  Relatives  891 non-null    int64  \n",
      "dtypes: bool(3), float64(2), int64(6)\n",
      "memory usage: 58.4 KB\n"
     ]
    }
   ],
   "source": [
    "df.info()"
   ]
  },
  {
   "cell_type": "code",
   "execution_count": 145,
   "id": "7473e1aa-976d-4848-a74b-33ac7bc93711",
   "metadata": {},
   "outputs": [
    {
     "data": {
      "text/html": [
       "<div>\n",
       "<style scoped>\n",
       "    .dataframe tbody tr th:only-of-type {\n",
       "        vertical-align: middle;\n",
       "    }\n",
       "\n",
       "    .dataframe tbody tr th {\n",
       "        vertical-align: top;\n",
       "    }\n",
       "\n",
       "    .dataframe thead th {\n",
       "        text-align: right;\n",
       "    }\n",
       "</style>\n",
       "<table border=\"1\" class=\"dataframe\">\n",
       "  <thead>\n",
       "    <tr style=\"text-align: right;\">\n",
       "      <th></th>\n",
       "      <th>Survived</th>\n",
       "      <th>Pclass</th>\n",
       "      <th>Sex</th>\n",
       "      <th>Age</th>\n",
       "      <th>SibSp</th>\n",
       "      <th>Parch</th>\n",
       "      <th>Fare</th>\n",
       "      <th>C</th>\n",
       "      <th>Q</th>\n",
       "      <th>S</th>\n",
       "      <th>Relatives</th>\n",
       "    </tr>\n",
       "  </thead>\n",
       "  <tbody>\n",
       "    <tr>\n",
       "      <th>0</th>\n",
       "      <td>0</td>\n",
       "      <td>3</td>\n",
       "      <td>1</td>\n",
       "      <td>22.0</td>\n",
       "      <td>1</td>\n",
       "      <td>0</td>\n",
       "      <td>7.2500</td>\n",
       "      <td>False</td>\n",
       "      <td>False</td>\n",
       "      <td>True</td>\n",
       "      <td>1</td>\n",
       "    </tr>\n",
       "    <tr>\n",
       "      <th>1</th>\n",
       "      <td>1</td>\n",
       "      <td>1</td>\n",
       "      <td>0</td>\n",
       "      <td>38.0</td>\n",
       "      <td>1</td>\n",
       "      <td>0</td>\n",
       "      <td>71.2833</td>\n",
       "      <td>True</td>\n",
       "      <td>False</td>\n",
       "      <td>False</td>\n",
       "      <td>1</td>\n",
       "    </tr>\n",
       "    <tr>\n",
       "      <th>2</th>\n",
       "      <td>1</td>\n",
       "      <td>3</td>\n",
       "      <td>0</td>\n",
       "      <td>26.0</td>\n",
       "      <td>0</td>\n",
       "      <td>0</td>\n",
       "      <td>7.9250</td>\n",
       "      <td>False</td>\n",
       "      <td>False</td>\n",
       "      <td>True</td>\n",
       "      <td>0</td>\n",
       "    </tr>\n",
       "    <tr>\n",
       "      <th>3</th>\n",
       "      <td>1</td>\n",
       "      <td>1</td>\n",
       "      <td>0</td>\n",
       "      <td>35.0</td>\n",
       "      <td>1</td>\n",
       "      <td>0</td>\n",
       "      <td>53.1000</td>\n",
       "      <td>False</td>\n",
       "      <td>False</td>\n",
       "      <td>True</td>\n",
       "      <td>1</td>\n",
       "    </tr>\n",
       "    <tr>\n",
       "      <th>4</th>\n",
       "      <td>0</td>\n",
       "      <td>3</td>\n",
       "      <td>1</td>\n",
       "      <td>35.0</td>\n",
       "      <td>0</td>\n",
       "      <td>0</td>\n",
       "      <td>8.0500</td>\n",
       "      <td>False</td>\n",
       "      <td>False</td>\n",
       "      <td>True</td>\n",
       "      <td>0</td>\n",
       "    </tr>\n",
       "  </tbody>\n",
       "</table>\n",
       "</div>"
      ],
      "text/plain": [
       "   Survived  Pclass  Sex   Age  SibSp  Parch     Fare      C      Q      S  \\\n",
       "0         0       3    1  22.0      1      0   7.2500  False  False   True   \n",
       "1         1       1    0  38.0      1      0  71.2833   True  False  False   \n",
       "2         1       3    0  26.0      0      0   7.9250  False  False   True   \n",
       "3         1       1    0  35.0      1      0  53.1000  False  False   True   \n",
       "4         0       3    1  35.0      0      0   8.0500  False  False   True   \n",
       "\n",
       "   Relatives  \n",
       "0          1  \n",
       "1          1  \n",
       "2          0  \n",
       "3          1  \n",
       "4          0  "
      ]
     },
     "execution_count": 145,
     "metadata": {},
     "output_type": "execute_result"
    }
   ],
   "source": [
    "df.head()"
   ]
  },
  {
   "cell_type": "code",
   "execution_count": 146,
   "id": "78673dd5-7ddf-43c3-b0cb-d6fc89b33a04",
   "metadata": {},
   "outputs": [
    {
     "data": {
      "text/plain": [
       "Relatives\n",
       "0    537\n",
       "1    354\n",
       "Name: count, dtype: int64"
      ]
     },
     "execution_count": 146,
     "metadata": {},
     "output_type": "execute_result"
    }
   ],
   "source": [
    "df['Relatives'].value_counts()"
   ]
  },
  {
   "cell_type": "code",
   "execution_count": 147,
   "id": "4c7a74ea-5339-4686-857f-ed33cf1479ae",
   "metadata": {},
   "outputs": [
    {
     "data": {
      "text/plain": [
       "Relatives\n",
       "0    0.303538\n",
       "1    0.505650\n",
       "Name: Survived, dtype: float64"
      ]
     },
     "execution_count": 147,
     "metadata": {},
     "output_type": "execute_result"
    }
   ],
   "source": [
    "df.groupby('Relatives')['Survived'].mean()"
   ]
  },
  {
   "cell_type": "code",
   "execution_count": 148,
   "id": "f2f12df2-537e-4d6d-9975-82d0359166f7",
   "metadata": {},
   "outputs": [
    {
     "data": {
      "text/plain": [
       "32.204207968574636"
      ]
     },
     "execution_count": 148,
     "metadata": {},
     "output_type": "execute_result"
    }
   ],
   "source": [
    "df['Fare'].mean()"
   ]
  },
  {
   "cell_type": "code",
   "execution_count": 149,
   "id": "af60a4a8-af1b-40da-bfce-24d628f8dc9a",
   "metadata": {},
   "outputs": [
    {
     "data": {
      "text/plain": [
       "0.3176470588235294"
      ]
     },
     "execution_count": 149,
     "metadata": {},
     "output_type": "execute_result"
    }
   ],
   "source": [
    "df[df['Fare'] < 32]['Survived'].mean()"
   ]
  },
  {
   "cell_type": "code",
   "execution_count": 150,
   "id": "daf0d009-89d3-46c9-a2b0-5cf486b5265e",
   "metadata": {},
   "outputs": [],
   "source": [
    "from sklearn.model_selection import train_test_split\n",
    "from sklearn.preprocessing import StandardScaler\n",
    "from sklearn.neighbors import KNeighborsClassifier\n",
    "from sklearn.metrics import confusion_matrix, accuracy_score"
   ]
  },
  {
   "cell_type": "code",
   "execution_count": 151,
   "id": "b8096dd7-818d-48ab-befd-0770a7de801e",
   "metadata": {},
   "outputs": [],
   "source": [
    "x = df.drop('Survived', axis=1)\n",
    "y = df['Survived']"
   ]
  },
  {
   "cell_type": "code",
   "execution_count": 165,
   "id": "8dc801e5-c6e8-436d-9b9f-f364f5bd5445",
   "metadata": {},
   "outputs": [],
   "source": [
    "x_train, x_test,y_train, y_test, names_train, names_test = train_test_split(x,y, names,test_size=0.25)"
   ]
  },
  {
   "cell_type": "code",
   "execution_count": 166,
   "id": "5bfbf4b1-6e27-44b1-ab3a-5cf3ea934575",
   "metadata": {},
   "outputs": [],
   "source": [
    "sc = StandardScaler()"
   ]
  },
  {
   "cell_type": "code",
   "execution_count": 167,
   "id": "ff74b4bb-0a19-40b9-bf2e-fd1d1aa15e05",
   "metadata": {},
   "outputs": [],
   "source": [
    "x_train = sc.fit_transform(x_train)"
   ]
  },
  {
   "cell_type": "code",
   "execution_count": 168,
   "id": "1c6f29ce-47c7-4fbc-b048-090b4ca21d38",
   "metadata": {},
   "outputs": [],
   "source": [
    "x_test = sc.transform(x_test)"
   ]
  },
  {
   "cell_type": "code",
   "execution_count": 169,
   "id": "0f754c9f-f447-40eb-a6eb-608440540b98",
   "metadata": {},
   "outputs": [
    {
     "data": {
      "text/html": [
       "<style>#sk-container-id-9 {\n",
       "  /* Definition of color scheme common for light and dark mode */\n",
       "  --sklearn-color-text: black;\n",
       "  --sklearn-color-line: gray;\n",
       "  /* Definition of color scheme for unfitted estimators */\n",
       "  --sklearn-color-unfitted-level-0: #fff5e6;\n",
       "  --sklearn-color-unfitted-level-1: #f6e4d2;\n",
       "  --sklearn-color-unfitted-level-2: #ffe0b3;\n",
       "  --sklearn-color-unfitted-level-3: chocolate;\n",
       "  /* Definition of color scheme for fitted estimators */\n",
       "  --sklearn-color-fitted-level-0: #f0f8ff;\n",
       "  --sklearn-color-fitted-level-1: #d4ebff;\n",
       "  --sklearn-color-fitted-level-2: #b3dbfd;\n",
       "  --sklearn-color-fitted-level-3: cornflowerblue;\n",
       "\n",
       "  /* Specific color for light theme */\n",
       "  --sklearn-color-text-on-default-background: var(--sg-text-color, var(--theme-code-foreground, var(--jp-content-font-color1, black)));\n",
       "  --sklearn-color-background: var(--sg-background-color, var(--theme-background, var(--jp-layout-color0, white)));\n",
       "  --sklearn-color-border-box: var(--sg-text-color, var(--theme-code-foreground, var(--jp-content-font-color1, black)));\n",
       "  --sklearn-color-icon: #696969;\n",
       "\n",
       "  @media (prefers-color-scheme: dark) {\n",
       "    /* Redefinition of color scheme for dark theme */\n",
       "    --sklearn-color-text-on-default-background: var(--sg-text-color, var(--theme-code-foreground, var(--jp-content-font-color1, white)));\n",
       "    --sklearn-color-background: var(--sg-background-color, var(--theme-background, var(--jp-layout-color0, #111)));\n",
       "    --sklearn-color-border-box: var(--sg-text-color, var(--theme-code-foreground, var(--jp-content-font-color1, white)));\n",
       "    --sklearn-color-icon: #878787;\n",
       "  }\n",
       "}\n",
       "\n",
       "#sk-container-id-9 {\n",
       "  color: var(--sklearn-color-text);\n",
       "}\n",
       "\n",
       "#sk-container-id-9 pre {\n",
       "  padding: 0;\n",
       "}\n",
       "\n",
       "#sk-container-id-9 input.sk-hidden--visually {\n",
       "  border: 0;\n",
       "  clip: rect(1px 1px 1px 1px);\n",
       "  clip: rect(1px, 1px, 1px, 1px);\n",
       "  height: 1px;\n",
       "  margin: -1px;\n",
       "  overflow: hidden;\n",
       "  padding: 0;\n",
       "  position: absolute;\n",
       "  width: 1px;\n",
       "}\n",
       "\n",
       "#sk-container-id-9 div.sk-dashed-wrapped {\n",
       "  border: 1px dashed var(--sklearn-color-line);\n",
       "  margin: 0 0.4em 0.5em 0.4em;\n",
       "  box-sizing: border-box;\n",
       "  padding-bottom: 0.4em;\n",
       "  background-color: var(--sklearn-color-background);\n",
       "}\n",
       "\n",
       "#sk-container-id-9 div.sk-container {\n",
       "  /* jupyter's `normalize.less` sets `[hidden] { display: none; }`\n",
       "     but bootstrap.min.css set `[hidden] { display: none !important; }`\n",
       "     so we also need the `!important` here to be able to override the\n",
       "     default hidden behavior on the sphinx rendered scikit-learn.org.\n",
       "     See: https://github.com/scikit-learn/scikit-learn/issues/21755 */\n",
       "  display: inline-block !important;\n",
       "  position: relative;\n",
       "}\n",
       "\n",
       "#sk-container-id-9 div.sk-text-repr-fallback {\n",
       "  display: none;\n",
       "}\n",
       "\n",
       "div.sk-parallel-item,\n",
       "div.sk-serial,\n",
       "div.sk-item {\n",
       "  /* draw centered vertical line to link estimators */\n",
       "  background-image: linear-gradient(var(--sklearn-color-text-on-default-background), var(--sklearn-color-text-on-default-background));\n",
       "  background-size: 2px 100%;\n",
       "  background-repeat: no-repeat;\n",
       "  background-position: center center;\n",
       "}\n",
       "\n",
       "/* Parallel-specific style estimator block */\n",
       "\n",
       "#sk-container-id-9 div.sk-parallel-item::after {\n",
       "  content: \"\";\n",
       "  width: 100%;\n",
       "  border-bottom: 2px solid var(--sklearn-color-text-on-default-background);\n",
       "  flex-grow: 1;\n",
       "}\n",
       "\n",
       "#sk-container-id-9 div.sk-parallel {\n",
       "  display: flex;\n",
       "  align-items: stretch;\n",
       "  justify-content: center;\n",
       "  background-color: var(--sklearn-color-background);\n",
       "  position: relative;\n",
       "}\n",
       "\n",
       "#sk-container-id-9 div.sk-parallel-item {\n",
       "  display: flex;\n",
       "  flex-direction: column;\n",
       "}\n",
       "\n",
       "#sk-container-id-9 div.sk-parallel-item:first-child::after {\n",
       "  align-self: flex-end;\n",
       "  width: 50%;\n",
       "}\n",
       "\n",
       "#sk-container-id-9 div.sk-parallel-item:last-child::after {\n",
       "  align-self: flex-start;\n",
       "  width: 50%;\n",
       "}\n",
       "\n",
       "#sk-container-id-9 div.sk-parallel-item:only-child::after {\n",
       "  width: 0;\n",
       "}\n",
       "\n",
       "/* Serial-specific style estimator block */\n",
       "\n",
       "#sk-container-id-9 div.sk-serial {\n",
       "  display: flex;\n",
       "  flex-direction: column;\n",
       "  align-items: center;\n",
       "  background-color: var(--sklearn-color-background);\n",
       "  padding-right: 1em;\n",
       "  padding-left: 1em;\n",
       "}\n",
       "\n",
       "\n",
       "/* Toggleable style: style used for estimator/Pipeline/ColumnTransformer box that is\n",
       "clickable and can be expanded/collapsed.\n",
       "- Pipeline and ColumnTransformer use this feature and define the default style\n",
       "- Estimators will overwrite some part of the style using the `sk-estimator` class\n",
       "*/\n",
       "\n",
       "/* Pipeline and ColumnTransformer style (default) */\n",
       "\n",
       "#sk-container-id-9 div.sk-toggleable {\n",
       "  /* Default theme specific background. It is overwritten whether we have a\n",
       "  specific estimator or a Pipeline/ColumnTransformer */\n",
       "  background-color: var(--sklearn-color-background);\n",
       "}\n",
       "\n",
       "/* Toggleable label */\n",
       "#sk-container-id-9 label.sk-toggleable__label {\n",
       "  cursor: pointer;\n",
       "  display: block;\n",
       "  width: 100%;\n",
       "  margin-bottom: 0;\n",
       "  padding: 0.5em;\n",
       "  box-sizing: border-box;\n",
       "  text-align: center;\n",
       "}\n",
       "\n",
       "#sk-container-id-9 label.sk-toggleable__label-arrow:before {\n",
       "  /* Arrow on the left of the label */\n",
       "  content: \"▸\";\n",
       "  float: left;\n",
       "  margin-right: 0.25em;\n",
       "  color: var(--sklearn-color-icon);\n",
       "}\n",
       "\n",
       "#sk-container-id-9 label.sk-toggleable__label-arrow:hover:before {\n",
       "  color: var(--sklearn-color-text);\n",
       "}\n",
       "\n",
       "/* Toggleable content - dropdown */\n",
       "\n",
       "#sk-container-id-9 div.sk-toggleable__content {\n",
       "  max-height: 0;\n",
       "  max-width: 0;\n",
       "  overflow: hidden;\n",
       "  text-align: left;\n",
       "  /* unfitted */\n",
       "  background-color: var(--sklearn-color-unfitted-level-0);\n",
       "}\n",
       "\n",
       "#sk-container-id-9 div.sk-toggleable__content.fitted {\n",
       "  /* fitted */\n",
       "  background-color: var(--sklearn-color-fitted-level-0);\n",
       "}\n",
       "\n",
       "#sk-container-id-9 div.sk-toggleable__content pre {\n",
       "  margin: 0.2em;\n",
       "  border-radius: 0.25em;\n",
       "  color: var(--sklearn-color-text);\n",
       "  /* unfitted */\n",
       "  background-color: var(--sklearn-color-unfitted-level-0);\n",
       "}\n",
       "\n",
       "#sk-container-id-9 div.sk-toggleable__content.fitted pre {\n",
       "  /* unfitted */\n",
       "  background-color: var(--sklearn-color-fitted-level-0);\n",
       "}\n",
       "\n",
       "#sk-container-id-9 input.sk-toggleable__control:checked~div.sk-toggleable__content {\n",
       "  /* Expand drop-down */\n",
       "  max-height: 200px;\n",
       "  max-width: 100%;\n",
       "  overflow: auto;\n",
       "}\n",
       "\n",
       "#sk-container-id-9 input.sk-toggleable__control:checked~label.sk-toggleable__label-arrow:before {\n",
       "  content: \"▾\";\n",
       "}\n",
       "\n",
       "/* Pipeline/ColumnTransformer-specific style */\n",
       "\n",
       "#sk-container-id-9 div.sk-label input.sk-toggleable__control:checked~label.sk-toggleable__label {\n",
       "  color: var(--sklearn-color-text);\n",
       "  background-color: var(--sklearn-color-unfitted-level-2);\n",
       "}\n",
       "\n",
       "#sk-container-id-9 div.sk-label.fitted input.sk-toggleable__control:checked~label.sk-toggleable__label {\n",
       "  background-color: var(--sklearn-color-fitted-level-2);\n",
       "}\n",
       "\n",
       "/* Estimator-specific style */\n",
       "\n",
       "/* Colorize estimator box */\n",
       "#sk-container-id-9 div.sk-estimator input.sk-toggleable__control:checked~label.sk-toggleable__label {\n",
       "  /* unfitted */\n",
       "  background-color: var(--sklearn-color-unfitted-level-2);\n",
       "}\n",
       "\n",
       "#sk-container-id-9 div.sk-estimator.fitted input.sk-toggleable__control:checked~label.sk-toggleable__label {\n",
       "  /* fitted */\n",
       "  background-color: var(--sklearn-color-fitted-level-2);\n",
       "}\n",
       "\n",
       "#sk-container-id-9 div.sk-label label.sk-toggleable__label,\n",
       "#sk-container-id-9 div.sk-label label {\n",
       "  /* The background is the default theme color */\n",
       "  color: var(--sklearn-color-text-on-default-background);\n",
       "}\n",
       "\n",
       "/* On hover, darken the color of the background */\n",
       "#sk-container-id-9 div.sk-label:hover label.sk-toggleable__label {\n",
       "  color: var(--sklearn-color-text);\n",
       "  background-color: var(--sklearn-color-unfitted-level-2);\n",
       "}\n",
       "\n",
       "/* Label box, darken color on hover, fitted */\n",
       "#sk-container-id-9 div.sk-label.fitted:hover label.sk-toggleable__label.fitted {\n",
       "  color: var(--sklearn-color-text);\n",
       "  background-color: var(--sklearn-color-fitted-level-2);\n",
       "}\n",
       "\n",
       "/* Estimator label */\n",
       "\n",
       "#sk-container-id-9 div.sk-label label {\n",
       "  font-family: monospace;\n",
       "  font-weight: bold;\n",
       "  display: inline-block;\n",
       "  line-height: 1.2em;\n",
       "}\n",
       "\n",
       "#sk-container-id-9 div.sk-label-container {\n",
       "  text-align: center;\n",
       "}\n",
       "\n",
       "/* Estimator-specific */\n",
       "#sk-container-id-9 div.sk-estimator {\n",
       "  font-family: monospace;\n",
       "  border: 1px dotted var(--sklearn-color-border-box);\n",
       "  border-radius: 0.25em;\n",
       "  box-sizing: border-box;\n",
       "  margin-bottom: 0.5em;\n",
       "  /* unfitted */\n",
       "  background-color: var(--sklearn-color-unfitted-level-0);\n",
       "}\n",
       "\n",
       "#sk-container-id-9 div.sk-estimator.fitted {\n",
       "  /* fitted */\n",
       "  background-color: var(--sklearn-color-fitted-level-0);\n",
       "}\n",
       "\n",
       "/* on hover */\n",
       "#sk-container-id-9 div.sk-estimator:hover {\n",
       "  /* unfitted */\n",
       "  background-color: var(--sklearn-color-unfitted-level-2);\n",
       "}\n",
       "\n",
       "#sk-container-id-9 div.sk-estimator.fitted:hover {\n",
       "  /* fitted */\n",
       "  background-color: var(--sklearn-color-fitted-level-2);\n",
       "}\n",
       "\n",
       "/* Specification for estimator info (e.g. \"i\" and \"?\") */\n",
       "\n",
       "/* Common style for \"i\" and \"?\" */\n",
       "\n",
       ".sk-estimator-doc-link,\n",
       "a:link.sk-estimator-doc-link,\n",
       "a:visited.sk-estimator-doc-link {\n",
       "  float: right;\n",
       "  font-size: smaller;\n",
       "  line-height: 1em;\n",
       "  font-family: monospace;\n",
       "  background-color: var(--sklearn-color-background);\n",
       "  border-radius: 1em;\n",
       "  height: 1em;\n",
       "  width: 1em;\n",
       "  text-decoration: none !important;\n",
       "  margin-left: 1ex;\n",
       "  /* unfitted */\n",
       "  border: var(--sklearn-color-unfitted-level-1) 1pt solid;\n",
       "  color: var(--sklearn-color-unfitted-level-1);\n",
       "}\n",
       "\n",
       ".sk-estimator-doc-link.fitted,\n",
       "a:link.sk-estimator-doc-link.fitted,\n",
       "a:visited.sk-estimator-doc-link.fitted {\n",
       "  /* fitted */\n",
       "  border: var(--sklearn-color-fitted-level-1) 1pt solid;\n",
       "  color: var(--sklearn-color-fitted-level-1);\n",
       "}\n",
       "\n",
       "/* On hover */\n",
       "div.sk-estimator:hover .sk-estimator-doc-link:hover,\n",
       ".sk-estimator-doc-link:hover,\n",
       "div.sk-label-container:hover .sk-estimator-doc-link:hover,\n",
       ".sk-estimator-doc-link:hover {\n",
       "  /* unfitted */\n",
       "  background-color: var(--sklearn-color-unfitted-level-3);\n",
       "  color: var(--sklearn-color-background);\n",
       "  text-decoration: none;\n",
       "}\n",
       "\n",
       "div.sk-estimator.fitted:hover .sk-estimator-doc-link.fitted:hover,\n",
       ".sk-estimator-doc-link.fitted:hover,\n",
       "div.sk-label-container:hover .sk-estimator-doc-link.fitted:hover,\n",
       ".sk-estimator-doc-link.fitted:hover {\n",
       "  /* fitted */\n",
       "  background-color: var(--sklearn-color-fitted-level-3);\n",
       "  color: var(--sklearn-color-background);\n",
       "  text-decoration: none;\n",
       "}\n",
       "\n",
       "/* Span, style for the box shown on hovering the info icon */\n",
       ".sk-estimator-doc-link span {\n",
       "  display: none;\n",
       "  z-index: 9999;\n",
       "  position: relative;\n",
       "  font-weight: normal;\n",
       "  right: .2ex;\n",
       "  padding: .5ex;\n",
       "  margin: .5ex;\n",
       "  width: min-content;\n",
       "  min-width: 20ex;\n",
       "  max-width: 50ex;\n",
       "  color: var(--sklearn-color-text);\n",
       "  box-shadow: 2pt 2pt 4pt #999;\n",
       "  /* unfitted */\n",
       "  background: var(--sklearn-color-unfitted-level-0);\n",
       "  border: .5pt solid var(--sklearn-color-unfitted-level-3);\n",
       "}\n",
       "\n",
       ".sk-estimator-doc-link.fitted span {\n",
       "  /* fitted */\n",
       "  background: var(--sklearn-color-fitted-level-0);\n",
       "  border: var(--sklearn-color-fitted-level-3);\n",
       "}\n",
       "\n",
       ".sk-estimator-doc-link:hover span {\n",
       "  display: block;\n",
       "}\n",
       "\n",
       "/* \"?\"-specific style due to the `<a>` HTML tag */\n",
       "\n",
       "#sk-container-id-9 a.estimator_doc_link {\n",
       "  float: right;\n",
       "  font-size: 1rem;\n",
       "  line-height: 1em;\n",
       "  font-family: monospace;\n",
       "  background-color: var(--sklearn-color-background);\n",
       "  border-radius: 1rem;\n",
       "  height: 1rem;\n",
       "  width: 1rem;\n",
       "  text-decoration: none;\n",
       "  /* unfitted */\n",
       "  color: var(--sklearn-color-unfitted-level-1);\n",
       "  border: var(--sklearn-color-unfitted-level-1) 1pt solid;\n",
       "}\n",
       "\n",
       "#sk-container-id-9 a.estimator_doc_link.fitted {\n",
       "  /* fitted */\n",
       "  border: var(--sklearn-color-fitted-level-1) 1pt solid;\n",
       "  color: var(--sklearn-color-fitted-level-1);\n",
       "}\n",
       "\n",
       "/* On hover */\n",
       "#sk-container-id-9 a.estimator_doc_link:hover {\n",
       "  /* unfitted */\n",
       "  background-color: var(--sklearn-color-unfitted-level-3);\n",
       "  color: var(--sklearn-color-background);\n",
       "  text-decoration: none;\n",
       "}\n",
       "\n",
       "#sk-container-id-9 a.estimator_doc_link.fitted:hover {\n",
       "  /* fitted */\n",
       "  background-color: var(--sklearn-color-fitted-level-3);\n",
       "}\n",
       "</style><div id=\"sk-container-id-9\" class=\"sk-top-container\"><div class=\"sk-text-repr-fallback\"><pre>KNeighborsClassifier(n_neighbors=3)</pre><b>In a Jupyter environment, please rerun this cell to show the HTML representation or trust the notebook. <br />On GitHub, the HTML representation is unable to render, please try loading this page with nbviewer.org.</b></div><div class=\"sk-container\" hidden><div class=\"sk-item\"><div class=\"sk-estimator fitted sk-toggleable\"><input class=\"sk-toggleable__control sk-hidden--visually\" id=\"sk-estimator-id-9\" type=\"checkbox\" checked><label for=\"sk-estimator-id-9\" class=\"sk-toggleable__label fitted sk-toggleable__label-arrow fitted\">&nbsp;&nbsp;KNeighborsClassifier<a class=\"sk-estimator-doc-link fitted\" rel=\"noreferrer\" target=\"_blank\" href=\"https://scikit-learn.org/1.4/modules/generated/sklearn.neighbors.KNeighborsClassifier.html\">?<span>Documentation for KNeighborsClassifier</span></a><span class=\"sk-estimator-doc-link fitted\">i<span>Fitted</span></span></label><div class=\"sk-toggleable__content fitted\"><pre>KNeighborsClassifier(n_neighbors=3)</pre></div> </div></div></div></div>"
      ],
      "text/plain": [
       "KNeighborsClassifier(n_neighbors=3)"
      ]
     },
     "execution_count": 169,
     "metadata": {},
     "output_type": "execute_result"
    }
   ],
   "source": [
    "classifier = KNeighborsClassifier(n_neighbors = 3)\n",
    "classifier.fit(x_train, y_train)"
   ]
  },
  {
   "cell_type": "code",
   "execution_count": 170,
   "id": "b1cf3d97-3745-4638-9f97-69c75d86e46d",
   "metadata": {},
   "outputs": [],
   "source": [
    "preds = classifier.predict(x_test)"
   ]
  },
  {
   "cell_type": "code",
   "execution_count": 171,
   "id": "b7775dfc-dfd5-4573-bb6a-4759d944c526",
   "metadata": {},
   "outputs": [
    {
     "name": "stdout",
     "output_type": "stream",
     "text": [
      "Confusion matrix:\n",
      "[[117  19]\n",
      " [ 28  59]]\n"
     ]
    }
   ],
   "source": [
    "print('Confusion matrix:')\n",
    "print(confusion_matrix(y_test, preds))"
   ]
  },
  {
   "cell_type": "code",
   "execution_count": 172,
   "id": "82919b8a-8f0d-4c77-8435-3b248c03953b",
   "metadata": {},
   "outputs": [
    {
     "name": "stdout",
     "output_type": "stream",
     "text": [
      "Accuracy score:\n",
      "0.7892376681614349\n"
     ]
    }
   ],
   "source": [
    "print('Accuracy score:')\n",
    "print(accuracy_score(y_test, preds))"
   ]
  },
  {
   "cell_type": "code",
   "execution_count": 173,
   "id": "35a2d8f4-89e3-45f6-a813-63df0f188752",
   "metadata": {},
   "outputs": [],
   "source": [
    "results = pd.DataFrame(\n",
    "    {\n",
    "        'Name': names_test,\n",
    "        'Actual': y_test.values,\n",
    "        'Predicted': preds\n",
    "    }\n",
    ")"
   ]
  },
  {
   "cell_type": "code",
   "execution_count": 177,
   "id": "cdffd7a8-de9b-49ac-99b5-eecf4feb658c",
   "metadata": {},
   "outputs": [
    {
     "name": "stdout",
     "output_type": "stream",
     "text": [
      "Survived and Predicted correctly:\n",
      "Survived correct: 59\n",
      "Name: Harris, Mrs. Henry Birkhardt (Irene Wallach)\n",
      "Name: Crosby, Miss. Harriet R\n",
      "Name: Newell, Miss. Madeleine\n",
      "Name: Lulic, Mr. Nikola\n",
      "Name: Minahan, Miss. Daisy E\n",
      "Name: Beane, Mrs. Edward (Ethel Clarke)\n",
      "Name: Louch, Mrs. Charles Alexander (Alice Adelaide Slow)\n",
      "Name: Dick, Mrs. Albert Adrian (Vera Gillespie)\n",
      "Name: McGovern, Miss. Mary\n",
      "Name: Collyer, Mrs. Harvey (Charlotte Annie Tate)\n",
      "Name: Andrews, Miss. Kornelia Theodosia\n",
      "Name: Pears, Mrs. Thomas (Edith Wearne)\n",
      "Name: Newell, Miss. Marjorie\n",
      "Name: Newsom, Miss. Helen Monypeny\n",
      "Name: Rothes, the Countess. of (Lucy Noel Martha Dyer-Edwards)\n",
      "Name: Madigan, Miss. Margaret \"Maggie\"\n",
      "Name: Caldwell, Mrs. Albert Francis (Sylvia Mae Harbaugh)\n",
      "Name: Navratil, Master. Edmond Roger\n",
      "Name: Perreault, Miss. Anne\n",
      "Name: Nicola-Yarred, Miss. Jamila\n",
      "Name: Serepeca, Miss. Augusta\n",
      "Name: Najib, Miss. Adele Kiamie \"Jane\"\n",
      "Name: Barber, Miss. Ellen \"Nellie\"\n",
      "Name: Davis, Miss. Mary\n",
      "Name: Stephenson, Mrs. Walter Bertram (Martha Eustis)\n",
      "Name: Baclini, Miss. Helene Barbara\n",
      "Name: Mallet, Master. Andre\n",
      "Name: Dodge, Master. Washington\n",
      "Name: Stone, Mrs. George Nelson (Martha Evelyn)\n",
      "Name: Bissette, Miss. Amelia\n",
      "Name: Nye, Mrs. (Elizabeth Ramell)\n",
      "Name: Kenyon, Mrs. Frederick R (Marion)\n",
      "Name: Silverthorne, Mr. Spencer Victor\n",
      "Name: Hippach, Miss. Jean Gertrude\n",
      "Name: Taussig, Mrs. Emil (Tillie Mandelbaum)\n",
      "Name: McGough, Mr. James Robert\n",
      "Name: Laroche, Miss. Simonne Marie Anne Andree\n",
      "Name: Keane, Miss. Nora A\n",
      "Name: Laroche, Mrs. Joseph (Juliette Marie Louise Lafargue)\n",
      "Name: Thayer, Mrs. John Borland (Marian Longstreth Morris)\n",
      "Name: Glynn, Miss. Mary Agatha\n",
      "Name: Hamalainen, Mrs. William (Anna)\n",
      "Name: Johnson, Master. Harold Theodor\n",
      "Name: Warren, Mrs. Frank Manley (Anna Sophia Atkinson)\n",
      "Name: Johnson, Miss. Eleanor Ileen\n",
      "Name: Francatelli, Miss. Laura Mabel\n",
      "Name: Brown, Mrs. James Joseph (Margaret Tobin)\n",
      "Name: Thorne, Mrs. Gertrude Maybelle\n",
      "Name: Slayter, Miss. Hilda Mary\n",
      "Name: Allen, Miss. Elisabeth Walton\n",
      "Name: Fleming, Miss. Margaret\n",
      "Name: Heikkinen, Miss. Laina\n",
      "Name: Maioni, Miss. Roberta\n",
      "Name: Clarke, Mrs. Charles V (Ada Maria Winfield)\n",
      "Name: Wells, Miss. Joan\n",
      "Name: Shelley, Mrs. William (Imanita Parrish Hall)\n",
      "Name: Buss, Miss. Kate\n",
      "Name: Davies, Master. John Morgan Jr\n",
      "Name: Richards, Master. William Rowe\n"
     ]
    }
   ],
   "source": [
    "print('Survived and Predicted correctly:')\n",
    "survived_correct = results[(results['Actual'] == 1) & (results['Predicted'] == 1)]\n",
    "print('Survived correct:', len(survived_correct))\n",
    "for name in survived_correct['Name'].values:\n",
    "    print('Name:',name)"
   ]
  },
  {
   "cell_type": "code",
   "execution_count": 178,
   "id": "e5e06cbe-2986-4552-9fb0-b19c4b33a404",
   "metadata": {
    "scrolled": true
   },
   "outputs": [
    {
     "name": "stdout",
     "output_type": "stream",
     "text": [
      " Not Survived and Predicted correctly:\n",
      "Survived correct: 117\n",
      "Name: Vander Planke, Miss. Augusta Maria\n",
      "Name: Keane, Mr. Andrew \"Andy\"\n",
      "Name: Berglund, Mr. Karl Ivar Sven\n",
      "Name: Meanwell, Miss. (Marion Ogden)\n",
      "Name: Cribb, Mr. John Hatfield\n",
      "Name: Gheorgheff, Mr. Stanio\n",
      "Name: Eklund, Mr. Hans Linus\n",
      "Name: Moutal, Mr. Rahamin Haim\n",
      "Name: Ibrahim Shawah, Mr. Yousseff\n",
      "Name: Hodges, Mr. Henry Price\n",
      "Name: Patchett, Mr. George\n",
      "Name: Vanden Steen, Mr. Leo Peter\n",
      "Name: Kink, Mr. Vincenz\n",
      "Name: Marvin, Mr. Daniel Warner\n",
      "Name: Culumovic, Mr. Jeso\n",
      "Name: Rintamaki, Mr. Matti\n",
      "Name: Torber, Mr. Ernst William\n",
      "Name: Walker, Mr. William Anderson\n",
      "Name: Rice, Master. Eugene\n",
      "Name: Elsbury, Mr. William James\n",
      "Name: Collyer, Mr. Harvey\n",
      "Name: Hoyt, Mr. William Fisher\n",
      "Name: Smith, Mr. James Clinch\n",
      "Name: Sdycoff, Mr. Todor\n",
      "Name: Smith, Mr. Thomas\n",
      "Name: Panula, Mrs. Juha (Maria Emilia Ojala)\n",
      "Name: Gill, Mr. John William\n",
      "Name: Lemberopolous, Mr. Peter L\n",
      "Name: Butler, Mr. Reginald Fenton\n",
      "Name: Giles, Mr. Frederick Edward\n",
      "Name: Stoytcheff, Mr. Ilia\n",
      "Name: Leinonen, Mr. Antti Gustaf\n",
      "Name: Fahlstrom, Mr. Arne Jonas\n",
      "Name: Slabenoff, Mr. Petco\n",
      "Name: Boulos, Mr. Hanna\n",
      "Name: Jacobsohn, Mr. Sidney Samuel\n",
      "Name: Connors, Mr. Patrick\n",
      "Name: Brown, Mr. Thomas William Solomon\n",
      "Name: Holm, Mr. John Fredrik Alexander\n",
      "Name: Johnson, Mr. Malkolm Joackim\n",
      "Name: Novel, Mr. Mansouer\n",
      "Name: Ivanoff, Mr. Kanio\n",
      "Name: Badt, Mr. Mohamed\n",
      "Name: Garfirth, Mr. John\n",
      "Name: Williams, Mr. Howard Hugh \"Harry\"\n",
      "Name: Slemen, Mr. Richard James\n",
      "Name: Celotti, Mr. Francesco\n",
      "Name: Goncalves, Mr. Manuel Estanslas\n",
      "Name: Hickman, Mr. Stanley George\n",
      "Name: Moore, Mr. Leonard Charles\n",
      "Name: Zimmerman, Mr. Leo\n",
      "Name: Panula, Mr. Jaako Arnold\n",
      "Name: Leonard, Mr. Lionel\n",
      "Name: Davies, Mr. Alfred J\n",
      "Name: Nicholls, Mr. Joseph Charles\n",
      "Name: Hale, Mr. Reginald\n",
      "Name: Gavey, Mr. Lawrence\n",
      "Name: Carbines, Mr. William\n",
      "Name: Arnold-Franchi, Mrs. Josef (Josefine Franchi)\n",
      "Name: Nirva, Mr. Iisakki Antino Aijo\n",
      "Name: Attalah, Mr. Sleiman\n",
      "Name: Palsson, Master. Gosta Leonard\n",
      "Name: Gillespie, Mr. William Henry\n",
      "Name: McMahon, Mr. Martin\n",
      "Name: Andersson, Miss. Ellis Anna Maria\n",
      "Name: Sivola, Mr. Antti Wilhelm\n",
      "Name: Coelho, Mr. Domingos Fernandeo\n",
      "Name: Mernagh, Mr. Robert\n",
      "Name: Lennon, Mr. Denis\n",
      "Name: Coleff, Mr. Satio\n",
      "Name: Palsson, Mrs. Nils (Alma Cornelia Berglund)\n",
      "Name: Turcin, Mr. Stjepan\n",
      "Name: Gee, Mr. Arthur H\n",
      "Name: Green, Mr. George Henry\n",
      "Name: Dennis, Mr. Samuel\n",
      "Name: Abbing, Mr. Anthony\n",
      "Name: Ali, Mr. William\n",
      "Name: Harknett, Miss. Alice Phoebe\n",
      "Name: Moran, Mr. Daniel J\n",
      "Name: White, Mr. Percival Wayland\n",
      "Name: Harrison, Mr. William\n",
      "Name: Davidson, Mr. Thornton\n",
      "Name: Carter, Rev. Ernest Courtenay\n",
      "Name: Nasser, Mr. Nicholas\n",
      "Name: Kiernan, Mr. Philip\n",
      "Name: Abbott, Mr. Rossmore Edward\n",
      "Name: Andrews, Mr. Thomas Jr\n",
      "Name: Johnston, Mr. Andrew G\n",
      "Name: Collander, Mr. Erik Gustaf\n",
      "Name: Dantcheff, Mr. Ristiu\n",
      "Name: Ahlin, Mrs. Johan (Johanna Persdotter Larsson)\n",
      "Name: Ford, Mrs. Edward (Margaret Ann Watson)\n",
      "Name: Svensson, Mr. Olof\n",
      "Name: Sirota, Mr. Maurice\n",
      "Name: Pain, Dr. Alfred\n",
      "Name: McCarthy, Mr. Timothy J\n",
      "Name: Olsen, Mr. Henry Margido\n",
      "Name: Mallet, Mr. Albert\n",
      "Name: Panula, Master. Eino Viljami\n",
      "Name: Asplund, Master. Clarence Gustaf Hugo\n",
      "Name: Pears, Mr. Thomas Clinton\n",
      "Name: Vander Cruyssen, Mr. Victor\n",
      "Name: Goodwin, Mr. Charles Edward\n",
      "Name: Goldschmidt, Mr. George B\n",
      "Name: Sharp, Mr. Percival James R\n",
      "Name: Bateman, Rev. Robert James\n",
      "Name: Hocking, Mr. Richard George\n",
      "Name: Fischer, Mr. Eberhard Thelander\n",
      "Name: Moran, Mr. James\n",
      "Name: Windelov, Mr. Einar\n",
      "Name: Widegren, Mr. Carl/Charles Peter\n",
      "Name: Wheadon, Mr. Edward H\n",
      "Name: Ryan, Mr. Patrick\n",
      "Name: Haas, Miss. Aloisia\n",
      "Name: Andersson, Miss. Ebba Iris Alfrida\n",
      "Name: Burke, Mr. Jeremiah\n",
      "Name: Skoog, Master. Harald\n"
     ]
    }
   ],
   "source": [
    "print(' Not Survived and Predicted correctly:')\n",
    "survived_correct = results[(results['Actual'] == 0) & (results['Predicted'] == 0)]\n",
    "print('Survived correct:', len(survived_correct))\n",
    "for name in survived_correct['Name'].values:\n",
    "    print('Name:',name)"
   ]
  },
  {
   "cell_type": "code",
   "execution_count": 179,
   "id": "7f40aec6-a4a3-4687-9b9f-687c3b6629a5",
   "metadata": {},
   "outputs": [
    {
     "name": "stdout",
     "output_type": "stream",
     "text": [
      "Survived and Predicted incorrectly:\n",
      "Survived correct: 28\n",
      "Name: Calderhead, Mr. Edward Pennington\n",
      "Name: Williams, Mr. Charles Eugene\n",
      "Name: Frolicher-Stehli, Mr. Maxmillian\n",
      "Name: Carr, Miss. Helen \"Ellen\"\n",
      "Name: Padro y Manent, Mr. Julian\n",
      "Name: Lindqvist, Mr. Eino William\n",
      "Name: Leeni, Mr. Fahim (\"Philip Zenni\")\n",
      "Name: Emanuel, Miss. Virginia Ethel\n",
      "Name: Frauenthal, Dr. Henry William\n",
      "Name: Simonius-Blumer, Col. Oberst Alfons\n",
      "Name: Moss, Mr. Albert Johan\n",
      "Name: Dick, Mr. Albert Adrian\n",
      "Name: Hakkarainen, Mrs. Pekka Pietari (Elin Matilda Dolck)\n",
      "Name: Blank, Mr. Henry\n",
      "Name: Jonsson, Mr. Carl\n",
      "Name: Persson, Mr. Ernst Ulrik\n",
      "Name: Jussila, Mr. Eiriik\n",
      "Name: Gilnagh, Miss. Katherine \"Katie\"\n",
      "Name: Mamee, Mr. Hanna\n",
      "Name: Devaney, Miss. Margaret Delia\n",
      "Name: Moubarek, Master. Gerios\n",
      "Name: Abbott, Mrs. Stanton (Rosa Hunt)\n",
      "Name: Nakid, Mr. Sahid\n",
      "Name: Albimona, Mr. Nassef Cassem\n",
      "Name: Davison, Mrs. Thomas Henry (Mary E Finck)\n",
      "Name: Tornquist, Mr. William Henry\n",
      "Name: Aks, Mrs. Sam (Leah Rosen)\n",
      "Name: McGowan, Miss. Anna \"Annie\"\n"
     ]
    }
   ],
   "source": [
    "print('Survived and Predicted incorrectly:')\n",
    "survived_correct = results[(results['Actual'] == 1) & (results['Predicted'] == 0)]\n",
    "print('Survived correct:', len(survived_correct))\n",
    "for name in survived_correct['Name'].values:\n",
    "    print('Name:',name)"
   ]
  },
  {
   "cell_type": "code",
   "execution_count": 180,
   "id": "2ce855bf-a556-4696-ac21-826ec13b2991",
   "metadata": {},
   "outputs": [
    {
     "name": "stdout",
     "output_type": "stream",
     "text": [
      "Survived and Predicted correctly:\n",
      "Survived correct: 19\n",
      "Name: Chronopoulos, Mr. Apostolos\n",
      "Name: Carter, Mrs. Ernest Courtenay (Lilian Hughes)\n",
      "Name: Peters, Miss. Katie\n",
      "Name: Robbins, Mr. Victor\n",
      "Name: Yasbeck, Mr. Antoni\n",
      "Name: Van Impe, Miss. Catharina\n",
      "Name: Caram, Mrs. Joseph (Maria Elias)\n",
      "Name: Samaan, Mr. Youssef\n",
      "Name: Isham, Miss. Ann Elizabeth\n",
      "Name: Ringhini, Mr. Sante\n",
      "Name: Ross, Mr. John Hugo\n",
      "Name: Zabour, Miss. Hileni\n",
      "Name: Henry, Miss. Delia\n",
      "Name: Heininen, Miss. Wendla Maria\n",
      "Name: Lahtinen, Mrs. William (Anna Sylfven)\n",
      "Name: Funk, Miss. Annie Clemmer\n",
      "Name: Fortune, Mr. Charles Alexander\n",
      "Name: Johnston, Miss. Catherine Helen \"Carrie\"\n",
      "Name: Andersson, Miss. Sigrid Elisabeth\n"
     ]
    }
   ],
   "source": [
    "print('Survived and Predicted correctly:')\n",
    "survived_correct = results[(results['Actual'] == 0) & (results['Predicted'] == 1)]\n",
    "print('Survived correct:', len(survived_correct))\n",
    "for name in survived_correct['Name'].values:\n",
    "    print('Name:',name)"
   ]
  },
  {
   "cell_type": "code",
   "execution_count": null,
   "id": "0daf4041-b5a7-43b9-8247-47e2f41b7cee",
   "metadata": {},
   "outputs": [],
   "source": []
  }
 ],
 "metadata": {
  "kernelspec": {
   "display_name": "Python 3 (ipykernel)",
   "language": "python",
   "name": "python3"
  },
  "language_info": {
   "codemirror_mode": {
    "name": "ipython",
    "version": 3
   },
   "file_extension": ".py",
   "mimetype": "text/x-python",
   "name": "python",
   "nbconvert_exporter": "python",
   "pygments_lexer": "ipython3",
   "version": "3.12.7"
  }
 },
 "nbformat": 4,
 "nbformat_minor": 5
}
